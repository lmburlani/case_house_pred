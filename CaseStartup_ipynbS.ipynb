{
  "nbformat": 4,
  "nbformat_minor": 0,
  "metadata": {
    "colab": {
      "name": "CaseStartup.ipynbS",
      "provenance": [],
      "authorship_tag": "ABX9TyP8y9Ejw2V6xLDAmXTIXeD/",
      "include_colab_link": true
    },
    "kernelspec": {
      "name": "python3",
      "display_name": "Python 3"
    }
  },
  "cells": [
    {
      "cell_type": "markdown",
      "metadata": {
        "id": "view-in-github",
        "colab_type": "text"
      },
      "source": [
        "<a href=\"https://colab.research.google.com/github/lmburlani/casestartup/blob/main/CaseStartup_ipynbS.ipynb\" target=\"_parent\"><img src=\"https://colab.research.google.com/assets/colab-badge.svg\" alt=\"Open In Colab\"/></a>"
      ]
    },
    {
      "cell_type": "code",
      "metadata": {
        "id": "yIDbEW4XA5Pb"
      },
      "source": [
        "import pandas as pd\n",
        "import pathlib\n",
        "import numpy as np\n",
        "import seaborn as sns\n",
        "import matplotlib.pyplot as plt"
      ],
      "execution_count": null,
      "outputs": []
    },
    {
      "cell_type": "code",
      "metadata": {
        "colab": {
          "base_uri": "https://localhost:8080/"
        },
        "id": "-YGhR0h-BCw4",
        "outputId": "0ab67728-5d2d-44be-c049-caa5bda456c5"
      },
      "source": [
        "from google.colab import drive\n",
        "drive.mount('/content/drive')"
      ],
      "execution_count": null,
      "outputs": [
        {
          "output_type": "stream",
          "text": [
            "Mounted at /content/drive\n"
          ],
          "name": "stdout"
        }
      ]
    },
    {
      "cell_type": "code",
      "metadata": {
        "colab": {
          "base_uri": "https://localhost:8080/",
          "height": 204
        },
        "id": "4I8JplYfBIov",
        "outputId": "73c1905e-ae06-4d61-bdb8-7a8824e88f9d"
      },
      "source": [
        "data = pd.read_csv('/content/drive/MyDrive/uau/house_sales.csv')\n",
        "data.head()"
      ],
      "execution_count": null,
      "outputs": [
        {
          "output_type": "execute_result",
          "data": {
            "text/html": [
              "<div>\n",
              "<style scoped>\n",
              "    .dataframe tbody tr th:only-of-type {\n",
              "        vertical-align: middle;\n",
              "    }\n",
              "\n",
              "    .dataframe tbody tr th {\n",
              "        vertical-align: top;\n",
              "    }\n",
              "\n",
              "    .dataframe thead th {\n",
              "        text-align: right;\n",
              "    }\n",
              "</style>\n",
              "<table border=\"1\" class=\"dataframe\">\n",
              "  <thead>\n",
              "    <tr style=\"text-align: right;\">\n",
              "      <th></th>\n",
              "      <th>price</th>\n",
              "      <th>num_bed</th>\n",
              "      <th>num_bath</th>\n",
              "      <th>size_house</th>\n",
              "      <th>size_lot</th>\n",
              "      <th>num_floors</th>\n",
              "      <th>is_waterfront</th>\n",
              "      <th>condition</th>\n",
              "      <th>size_basement</th>\n",
              "      <th>year_built</th>\n",
              "      <th>renovation_date</th>\n",
              "      <th>zip</th>\n",
              "      <th>latitude</th>\n",
              "      <th>longitude</th>\n",
              "      <th>avg_size_neighbor_houses</th>\n",
              "      <th>avg_size_neighbor_lot</th>\n",
              "    </tr>\n",
              "  </thead>\n",
              "  <tbody>\n",
              "    <tr>\n",
              "      <th>0</th>\n",
              "      <td>221900</td>\n",
              "      <td>3</td>\n",
              "      <td>1.00</td>\n",
              "      <td>1180</td>\n",
              "      <td>5650</td>\n",
              "      <td>1.0</td>\n",
              "      <td>0</td>\n",
              "      <td>3</td>\n",
              "      <td>0</td>\n",
              "      <td>1955</td>\n",
              "      <td>0</td>\n",
              "      <td>98178</td>\n",
              "      <td>47.511234</td>\n",
              "      <td>-122.256775</td>\n",
              "      <td>1340</td>\n",
              "      <td>5650</td>\n",
              "    </tr>\n",
              "    <tr>\n",
              "      <th>1</th>\n",
              "      <td>538000</td>\n",
              "      <td>3</td>\n",
              "      <td>2.25</td>\n",
              "      <td>2570</td>\n",
              "      <td>7242</td>\n",
              "      <td>2.0</td>\n",
              "      <td>0</td>\n",
              "      <td>3</td>\n",
              "      <td>400</td>\n",
              "      <td>1951</td>\n",
              "      <td>1991</td>\n",
              "      <td>98125</td>\n",
              "      <td>47.721023</td>\n",
              "      <td>-122.318862</td>\n",
              "      <td>1690</td>\n",
              "      <td>7639</td>\n",
              "    </tr>\n",
              "    <tr>\n",
              "      <th>2</th>\n",
              "      <td>180000</td>\n",
              "      <td>2</td>\n",
              "      <td>1.00</td>\n",
              "      <td>770</td>\n",
              "      <td>10000</td>\n",
              "      <td>1.0</td>\n",
              "      <td>0</td>\n",
              "      <td>3</td>\n",
              "      <td>0</td>\n",
              "      <td>1933</td>\n",
              "      <td>0</td>\n",
              "      <td>98028</td>\n",
              "      <td>47.737927</td>\n",
              "      <td>-122.233196</td>\n",
              "      <td>2720</td>\n",
              "      <td>8062</td>\n",
              "    </tr>\n",
              "    <tr>\n",
              "      <th>3</th>\n",
              "      <td>604000</td>\n",
              "      <td>4</td>\n",
              "      <td>3.00</td>\n",
              "      <td>1960</td>\n",
              "      <td>5000</td>\n",
              "      <td>1.0</td>\n",
              "      <td>0</td>\n",
              "      <td>5</td>\n",
              "      <td>910</td>\n",
              "      <td>1965</td>\n",
              "      <td>0</td>\n",
              "      <td>98136</td>\n",
              "      <td>47.520820</td>\n",
              "      <td>-122.393185</td>\n",
              "      <td>1360</td>\n",
              "      <td>5000</td>\n",
              "    </tr>\n",
              "    <tr>\n",
              "      <th>4</th>\n",
              "      <td>510000</td>\n",
              "      <td>3</td>\n",
              "      <td>2.00</td>\n",
              "      <td>1680</td>\n",
              "      <td>8080</td>\n",
              "      <td>1.0</td>\n",
              "      <td>0</td>\n",
              "      <td>3</td>\n",
              "      <td>0</td>\n",
              "      <td>1987</td>\n",
              "      <td>0</td>\n",
              "      <td>98074</td>\n",
              "      <td>47.616812</td>\n",
              "      <td>-122.044901</td>\n",
              "      <td>1800</td>\n",
              "      <td>7503</td>\n",
              "    </tr>\n",
              "  </tbody>\n",
              "</table>\n",
              "</div>"
            ],
            "text/plain": [
              "    price  num_bed  ...  avg_size_neighbor_houses  avg_size_neighbor_lot\n",
              "0  221900        3  ...                      1340                   5650\n",
              "1  538000        3  ...                      1690                   7639\n",
              "2  180000        2  ...                      2720                   8062\n",
              "3  604000        4  ...                      1360                   5000\n",
              "4  510000        3  ...                      1800                   7503\n",
              "\n",
              "[5 rows x 16 columns]"
            ]
          },
          "metadata": {
            "tags": []
          },
          "execution_count": 6
        }
      ]
    },
    {
      "cell_type": "code",
      "metadata": {
        "colab": {
          "base_uri": "https://localhost:8080/",
          "height": 315
        },
        "id": "9GDmFV4jBdLJ",
        "outputId": "24606d3b-56c4-455a-f8db-2017fbab4568"
      },
      "source": [
        "data['num_bed'].value_counts().plot(kind='bar')\n",
        "plt.title('n° de quartos')\n",
        "plt.xlabel('quartos')\n",
        "plt.ylabel('Count')\n",
        "sns.despine"
      ],
      "execution_count": null,
      "outputs": [
        {
          "output_type": "execute_result",
          "data": {
            "text/plain": [
              "<function seaborn.utils.despine>"
            ]
          },
          "metadata": {
            "tags": []
          },
          "execution_count": 7
        },
        {
          "output_type": "display_data",
          "data": {
            "image/png": "[encoded data removed]",
            "text/plain": [
              "<Figure size 432x288 with 1 Axes>"
            ]
          },
          "metadata": {
            "tags": [],
            "needs_background": "light"
          }
        }
      ]
    },
    {
      "cell_type": "code",
      "metadata": {
        "colab": {
          "base_uri": "https://localhost:8080/",
          "height": 945
        },
        "id": "XjjC36WEFw0V",
        "outputId": "c1d1590c-cf63-4e2e-e987-d5953656e840"
      },
      "source": [
        "df=data[['price', 'num_bed', 'num_bath', 'size_house',\n",
        "    'size_lot', 'num_floors', 'is_waterfront', 'condition', 'size_basement',\n",
        "    'year_built', 'renovation_date', 'zip', 'latitude', 'longitude',\n",
        "    'avg_size_neighbor_houses', 'avg_size_neighbor_lot']]\n",
        "h = df.hist(bins=25,figsize=(16,16),xlabelsize='10',ylabelsize='10',xrot=-15)\n",
        "sns.despine(left=True, bottom=True)\n",
        "[x.title.set_size(12) for x in h.ravel()];\n",
        "[x.yaxis.tick_left() for x in h.ravel()];\n",
        "# Filtro de warnigns\n",
        "import warnings\n",
        "warnings.simplefilter(action='ignore', category=FutureWarning)\n",
        "warnings.filterwarnings('ignore')"
      ],
      "execution_count": null,
      "outputs": [
        {
          "output_type": "display_data",
          "data": {
            "image/png": "[encoded data removed]",
            "text/plain": [
              "<Figure size 1152x1152 with 16 Axes>"
            ]
          },
          "metadata": {
            "tags": [],
            "needs_background": "light"
          }
        }
      ]
    },
    {
      "cell_type": "markdown",
      "metadata": {
        "id": "SXB_2KXOQgsP"
      },
      "source": [
        "# **With these histograms we can better see where the data is concentrated for each category, they do not appear to follow a normal distribution.**"
      ]
    },
    {
      "cell_type": "code",
      "metadata": {
        "id": "2OaW3oBAP5vO"
      },
      "source": [
        "# Defining the function to calculate R^2\n",
        "def adjustedR2(r2,n,k):\n",
        "    return r2-(k-1)/(n-k)*(1-r2)"
      ],
      "execution_count": null,
      "outputs": []
    },
    {
      "cell_type": "code",
      "metadata": {
        "colab": {
          "base_uri": "https://localhost:8080/",
          "height": 131
        },
        "id": "h9t2e62LSf3W",
        "outputId": "3843cf3c-8873-4c90-dd06-81934e2c5f26"
      },
      "source": [
        "from sklearn.model_selection import train_test_split\n",
        "from sklearn import linear_model\n",
        "from sklearn.neighbors import KNeighborsRegressor\n",
        "from sklearn.preprocessing import PolynomialFeatures\n",
        "from sklearn import metrics\n",
        "from sklearn.model_selection import cross_val_score\n",
        "\n",
        "\n",
        "# This model builds with the book 'Basics of Linear Algebra for Machine Learning' by Jason Brownlee and 'Machine Learning with Python Cookbook' by Chris Albon  \n",
        "evaluation = pd.DataFrame({'Model': [],\n",
        "                           'Details':[],\n",
        "                           'Root Mean Squared Error (RMSE)':[],\n",
        "                           'R-squared (training)':[],\n",
        "                           'Adjusted R-squared (training)':[],\n",
        "                           'R-squared (test)':[],\n",
        "                           'Adjusted R-squared (test)':[],\n",
        "                           '5-Fold Cross Validation':[]})\n",
        "\n",
        "train_data,test_data = train_test_split(df,train_size = 0.8,random_state=3)\n",
        "\n",
        "lr = linear_model.LinearRegression()\n",
        "X_train = np.array(train_data['size_house'], dtype=pd.Series).reshape(-1,1)\n",
        "y_train = np.array(train_data['price'], dtype=pd.Series)\n",
        "lr.fit(X_train,y_train)\n",
        "\n",
        "X_test = np.array(test_data['size_house'], dtype=pd.Series).reshape(-1,1)\n",
        "y_test = np.array(test_data['price'], dtype=pd.Series)\n",
        "\n",
        "pred = lr.predict(X_test)\n",
        "rmsesm = float(format(np.sqrt(metrics.mean_squared_error(y_test,pred)),'.3f'))\n",
        "rtrsm = float(format(lr.score(X_train, y_train),'.3f'))\n",
        "rtesm = float(format(lr.score(X_test, y_test),'.3f'))\n",
        "cv = float(format(cross_val_score(lr,df[['size_house']],df['price'],cv=5).mean(),'.3f'))\n",
        "\n",
        "print (\"Average Price for Test Data: {:.3f}\".format(y_test.mean()))\n",
        "print('Intercept: {}'.format(lr.intercept_))\n",
        "print('Coefficient: {}'.format(lr.coef_))\n",
        "\n",
        "r = evaluation.shape[0]\n",
        "evaluation.loc[r] = ['Simple Linear Regression','-',rmsesm,rtrsm,'-',rtesm,'-',cv]\n",
        "evaluation"
      ],
      "execution_count": null,
      "outputs": [
        {
          "output_type": "stream",
          "text": [
            "Average Price for Test Data: 532034.458\n",
            "Intercept: -54861.00341576582\n",
            "Coefficient: [287.75532801]\n"
          ],
          "name": "stdout"
        },
        {
          "output_type": "execute_result",
          "data": {
            "text/html": [
              "<div>\n",
              "<style scoped>\n",
              "    .dataframe tbody tr th:only-of-type {\n",
              "        vertical-align: middle;\n",
              "    }\n",
              "\n",
              "    .dataframe tbody tr th {\n",
              "        vertical-align: top;\n",
              "    }\n",
              "\n",
              "    .dataframe thead th {\n",
              "        text-align: right;\n",
              "    }\n",
              "</style>\n",
              "<table border=\"1\" class=\"dataframe\">\n",
              "  <thead>\n",
              "    <tr style=\"text-align: right;\">\n",
              "      <th></th>\n",
              "      <th>Model</th>\n",
              "      <th>Details</th>\n",
              "      <th>Root Mean Squared Error (RMSE)</th>\n",
              "      <th>R-squared (training)</th>\n",
              "      <th>Adjusted R-squared (training)</th>\n",
              "      <th>R-squared (test)</th>\n",
              "      <th>Adjusted R-squared (test)</th>\n",
              "      <th>5-Fold Cross Validation</th>\n",
              "    </tr>\n",
              "  </thead>\n",
              "  <tbody>\n",
              "    <tr>\n",
              "      <th>0</th>\n",
              "      <td>Simple Linear Regression</td>\n",
              "      <td>-</td>\n",
              "      <td>255005.045</td>\n",
              "      <td>0.501</td>\n",
              "      <td>-</td>\n",
              "      <td>0.483</td>\n",
              "      <td>-</td>\n",
              "      <td>0.496</td>\n",
              "    </tr>\n",
              "  </tbody>\n",
              "</table>\n",
              "</div>"
            ],
            "text/plain": [
              "                      Model  ... 5-Fold Cross Validation\n",
              "0  Simple Linear Regression  ...                   0.496\n",
              "\n",
              "[1 rows x 8 columns]"
            ]
          },
          "metadata": {
            "tags": []
          },
          "execution_count": 10
        }
      ]
    },
    {
      "cell_type": "code",
      "metadata": {
        "colab": {
          "base_uri": "https://localhost:8080/",
          "height": 355
        },
        "id": "MYxGWaA7Uu2g",
        "outputId": "b7e02dfb-2d13-4026-e61c-bf3203b224d2"
      },
      "source": [
        "# Let's visualize\n",
        "sns.set(style=\"white\", font_scale=1)\n",
        "plt.figure(figsize=(6.5,5))\n",
        "plt.scatter(X_test,y_test,color='blue',label=\"Dados\", alpha=.1)\n",
        "plt.plot(X_test,lr.predict(X_test),color=\"red\",label=\"Linha de regressão estimada\")\n",
        "plt.xlabel(\"Tamanho da casa\", fontsize=15)\n",
        "plt.ylabel(\"Preço\", fontsize=15)\n",
        "plt.xticks(fontsize=13)\n",
        "plt.yticks(fontsize=13)\n",
        "plt.legend()\n",
        "\n",
        "plt.gca().spines['right'].set_visible(False)\n",
        "plt.gca().spines['top'].set_visible(False)"
      ],
      "execution_count": null,
      "outputs": [
        {
          "output_type": "display_data",
          "data": {
            "image/png": "[encoded data removed]",
            "text/plain": [
              "<Figure size 468x360 with 1 Axes>"
            ]
          },
          "metadata": {
            "tags": []
          }
        }
      ]
    },
    {
      "cell_type": "markdown",
      "metadata": {
        "id": "1VGDtrpdhg-F"
      },
      "source": [
        "# **Relating only the size to the price of the house we get a model with almost 0.50, it is good but it can be better, I will try with the multiple regression**"
      ]
    },
    {
      "cell_type": "code",
      "metadata": {
        "colab": {
          "base_uri": "https://localhost:8080/",
          "height": 162
        },
        "id": "Ks-LV0achAgu",
        "outputId": "7d257f87-c814-4407-b5c0-9a911c49ca7a"
      },
      "source": [
        "# New dataframe\n",
        "df_dm=df.copy()\n",
        "df_dm.describe()\n",
        "\n",
        "train_data_dm,test_data_dm = train_test_split(df_dm,train_size = 0.8,random_state=3)\n",
        "\n",
        "features = ['num_bed','num_bath','size_house','size_lot','num_floors','zip']\n",
        "complex_model_1 = linear_model.LinearRegression()\n",
        "complex_model_1.fit(train_data_dm[features],train_data_dm['price'])\n",
        "\n",
        "print('Intercept: {}'.format(complex_model_1.intercept_))\n",
        "print('Coefficients: {}'.format(complex_model_1.coef_))\n",
        "\n",
        "pred = complex_model_1.predict(test_data_dm[features])\n",
        "rmsecm = float(format(np.sqrt(metrics.mean_squared_error(test_data_dm['price'],pred)),'.3f'))\n",
        "rtrcm = float(format(complex_model_1.score(train_data_dm[features],train_data_dm['price']),'.3f'))\n",
        "artrcm = float(format(adjustedR2(complex_model_1.score(train_data_dm[features],train_data_dm['price']),train_data_dm.shape[0],len(features)),'.3f'))\n",
        "rtecm = float(format(complex_model_1.score(test_data_dm[features],test_data_dm['price']),'.3f'))\n",
        "artecm = float(format(adjustedR2(complex_model_1.score(test_data_dm[features],test_data['price']),test_data_dm.shape[0],len(features)),'.3f'))\n",
        "cv = float(format(cross_val_score(complex_model_1,df_dm[features],df_dm['price'],cv=5).mean(),'.3f'))\n",
        "\n",
        "r = evaluation.shape[0]\n",
        "evaluation.loc[r] = ['Multiple Regression-1','selected features',rmsecm,rtrcm,artrcm,rtecm,artecm,cv]\n",
        "evaluation.sort_values(by = '5-Fold Cross Validation', ascending=False)"
      ],
      "execution_count": null,
      "outputs": [
        {
          "output_type": "stream",
          "text": [
            "Intercept: -59297336.37627714\n",
            "Coefficients: [-5.75574978e+04  1.38412533e+04  3.21457962e+02 -2.40764664e-01\n",
            " -3.13088690e+03  6.05082545e+02]\n"
          ],
          "name": "stdout"
        },
        {
          "output_type": "execute_result",
          "data": {
            "text/html": [
              "<div>\n",
              "<style scoped>\n",
              "    .dataframe tbody tr th:only-of-type {\n",
              "        vertical-align: middle;\n",
              "    }\n",
              "\n",
              "    .dataframe tbody tr th {\n",
              "        vertical-align: top;\n",
              "    }\n",
              "\n",
              "    .dataframe thead th {\n",
              "        text-align: right;\n",
              "    }\n",
              "</style>\n",
              "<table border=\"1\" class=\"dataframe\">\n",
              "  <thead>\n",
              "    <tr style=\"text-align: right;\">\n",
              "      <th></th>\n",
              "      <th>Model</th>\n",
              "      <th>Details</th>\n",
              "      <th>Root Mean Squared Error (RMSE)</th>\n",
              "      <th>R-squared (training)</th>\n",
              "      <th>Adjusted R-squared (training)</th>\n",
              "      <th>R-squared (test)</th>\n",
              "      <th>Adjusted R-squared (test)</th>\n",
              "      <th>5-Fold Cross Validation</th>\n",
              "    </tr>\n",
              "  </thead>\n",
              "  <tbody>\n",
              "    <tr>\n",
              "      <th>1</th>\n",
              "      <td>Multiple Regression-1</td>\n",
              "      <td>selected features</td>\n",
              "      <td>248977.833</td>\n",
              "      <td>0.523</td>\n",
              "      <td>0.523</td>\n",
              "      <td>0.507</td>\n",
              "      <td>0.506</td>\n",
              "      <td>0.517</td>\n",
              "    </tr>\n",
              "    <tr>\n",
              "      <th>0</th>\n",
              "      <td>Simple Linear Regression</td>\n",
              "      <td>-</td>\n",
              "      <td>255005.045</td>\n",
              "      <td>0.501</td>\n",
              "      <td>-</td>\n",
              "      <td>0.483</td>\n",
              "      <td>-</td>\n",
              "      <td>0.496</td>\n",
              "    </tr>\n",
              "  </tbody>\n",
              "</table>\n",
              "</div>"
            ],
            "text/plain": [
              "                      Model  ... 5-Fold Cross Validation\n",
              "1     Multiple Regression-1  ...                   0.517\n",
              "0  Simple Linear Regression  ...                   0.496\n",
              "\n",
              "[2 rows x 8 columns]"
            ]
          },
          "metadata": {
            "tags": []
          },
          "execution_count": 12
        }
      ]
    },
    {
      "cell_type": "code",
      "metadata": {
        "colab": {
          "base_uri": "https://localhost:8080/",
          "height": 210
        },
        "id": "zcPuDrzCiLou",
        "outputId": "04e88cdd-dfdc-4270-f599-eb4810e22e7c"
      },
      "source": [
        "# I will add more features\n",
        "\n",
        "features = ['num_bed','num_bath','size_house','size_lot','num_floors','zip','is_waterfront','condition', 'size_basement']\n",
        "complex_model_2 = linear_model.LinearRegression()\n",
        "complex_model_2.fit(train_data_dm[features],train_data_dm['price'])\n",
        "\n",
        "print('Intercept: {}'.format(complex_model_2.intercept_))\n",
        "print('Coefficients: {}'.format(complex_model_2.coef_))\n",
        "\n",
        "pred = complex_model_2.predict(test_data_dm[features])\n",
        "rmsecm = float(format(np.sqrt(metrics.mean_squared_error(test_data_dm['price'],pred)),'.3f'))\n",
        "rtrcm = float(format(complex_model_2.score(train_data_dm[features],train_data_dm['price']),'.3f'))\n",
        "artrcm = float(format(adjustedR2(complex_model_2.score(train_data_dm[features],train_data_dm['price']),train_data_dm.shape[0],len(features)),'.3f'))\n",
        "rtecm = float(format(complex_model_2.score(test_data_dm[features],test_data_dm['price']),'.3f'))\n",
        "artecm = float(format(adjustedR2(complex_model_2.score(test_data_dm[features],test_data_dm['price']),test_data_dm.shape[0],len(features)),'.3f'))\n",
        "cv = float(format(cross_val_score(complex_model_2,df_dm[features],df_dm['price'],cv=5).mean(),'.3f'))\n",
        "\n",
        "r = evaluation.shape[0]\n",
        "evaluation.loc[r] = ['Multiple Regression-2','selected features',rmsecm,rtrcm,artrcm,rtecm,artecm,cv]\n",
        "evaluation.sort_values(by = '5-Fold Cross Validation', ascending=False)"
      ],
      "execution_count": null,
      "outputs": [
        {
          "output_type": "stream",
          "text": [
            "Intercept: -55003349.818282224\n",
            "Coefficients: [-5.36747618e+04  1.86002527e+04  3.07293315e+02 -2.42729423e-01\n",
            "  1.19430341e+04  5.59195641e+02  8.32968651e+05  5.46078864e+04\n",
            " -9.53835293e+00]\n"
          ],
          "name": "stdout"
        },
        {
          "output_type": "execute_result",
          "data": {
            "text/html": [
              "<div>\n",
              "<style scoped>\n",
              "    .dataframe tbody tr th:only-of-type {\n",
              "        vertical-align: middle;\n",
              "    }\n",
              "\n",
              "    .dataframe tbody tr th {\n",
              "        vertical-align: top;\n",
              "    }\n",
              "\n",
              "    .dataframe thead th {\n",
              "        text-align: right;\n",
              "    }\n",
              "</style>\n",
              "<table border=\"1\" class=\"dataframe\">\n",
              "  <thead>\n",
              "    <tr style=\"text-align: right;\">\n",
              "      <th></th>\n",
              "      <th>Model</th>\n",
              "      <th>Details</th>\n",
              "      <th>Root Mean Squared Error (RMSE)</th>\n",
              "      <th>R-squared (training)</th>\n",
              "      <th>Adjusted R-squared (training)</th>\n",
              "      <th>R-squared (test)</th>\n",
              "      <th>Adjusted R-squared (test)</th>\n",
              "      <th>5-Fold Cross Validation</th>\n",
              "    </tr>\n",
              "  </thead>\n",
              "  <tbody>\n",
              "    <tr>\n",
              "      <th>2</th>\n",
              "      <td>Multiple Regression-2</td>\n",
              "      <td>selected features</td>\n",
              "      <td>244427.914</td>\n",
              "      <td>0.570</td>\n",
              "      <td>0.57</td>\n",
              "      <td>0.525</td>\n",
              "      <td>0.524</td>\n",
              "      <td>0.556</td>\n",
              "    </tr>\n",
              "    <tr>\n",
              "      <th>1</th>\n",
              "      <td>Multiple Regression-1</td>\n",
              "      <td>selected features</td>\n",
              "      <td>248977.833</td>\n",
              "      <td>0.523</td>\n",
              "      <td>0.523</td>\n",
              "      <td>0.507</td>\n",
              "      <td>0.506</td>\n",
              "      <td>0.517</td>\n",
              "    </tr>\n",
              "    <tr>\n",
              "      <th>0</th>\n",
              "      <td>Simple Linear Regression</td>\n",
              "      <td>-</td>\n",
              "      <td>255005.045</td>\n",
              "      <td>0.501</td>\n",
              "      <td>-</td>\n",
              "      <td>0.483</td>\n",
              "      <td>-</td>\n",
              "      <td>0.496</td>\n",
              "    </tr>\n",
              "  </tbody>\n",
              "</table>\n",
              "</div>"
            ],
            "text/plain": [
              "                      Model  ... 5-Fold Cross Validation\n",
              "2     Multiple Regression-2  ...                   0.556\n",
              "1     Multiple Regression-1  ...                   0.517\n",
              "0  Simple Linear Regression  ...                   0.496\n",
              "\n",
              "[3 rows x 8 columns]"
            ]
          },
          "metadata": {
            "tags": []
          },
          "execution_count": 13
        }
      ]
    },
    {
      "cell_type": "code",
      "metadata": {
        "colab": {
          "base_uri": "https://localhost:8080/",
          "height": 258
        },
        "id": "zsC438u3itPU",
        "outputId": "f315d448-b401-4daa-d686-d1662d448de4"
      },
      "source": [
        "features = ['num_bed','num_bath','size_house','size_lot','num_floors','zip','is_waterfront','condition', 'size_basement', 'latitude','longitude','avg_size_neighbor_houses','avg_size_neighbor_lot']\n",
        "complex_model_3 = linear_model.LinearRegression()\n",
        "complex_model_3.fit(train_data[features],train_data['price'])\n",
        "\n",
        "print('Intercept: {}'.format(complex_model_3.intercept_))\n",
        "print('Coefficients: {}'.format(complex_model_3.coef_))\n",
        "\n",
        "pred = complex_model_3.predict(test_data[features])\n",
        "rmsecm = float(format(np.sqrt(metrics.mean_squared_error(test_data['price'],pred)),'.3f'))\n",
        "rtrcm = float(format(complex_model_3.score(train_data[features],train_data['price']),'.3f'))\n",
        "artrcm = float(format(adjustedR2(complex_model_3.score(train_data[features],train_data['price']),train_data.shape[0],len(features)),'.3f'))\n",
        "rtecm = float(format(complex_model_3.score(test_data[features],test_data['price']),'.3f'))\n",
        "artecm = float(format(adjustedR2(complex_model_3.score(test_data[features],test_data['price']),test_data.shape[0],len(features)),'.3f'))\n",
        "cv = float(format(cross_val_score(complex_model_3,df[features],df['price'],cv=5).mean(),'.3f'))\n",
        "\n",
        "r = evaluation.shape[0]\n",
        "evaluation.loc[r] = ['Multiple Regression-3','all features, no preprocessing',rmsecm,rtrcm,artrcm,rtecm,artecm,cv]\n",
        "evaluation.sort_values(by = '5-Fold Cross Validation', ascending=False)"
      ],
      "execution_count": null,
      "outputs": [
        {
          "output_type": "stream",
          "text": [
            "Intercept: -47588657.32633616\n",
            "Coefficients: [-4.58128664e+04  2.53829528e+04  2.64037138e+02  3.33496890e-01\n",
            " -2.52711161e+03 -3.99283545e+02  8.44688175e+05  5.14370462e+04\n",
            " -4.11185333e+01  7.03045083e+05 -4.34461740e+05  7.29572783e+01\n",
            " -5.10333152e-01]\n"
          ],
          "name": "stdout"
        },
        {
          "output_type": "execute_result",
          "data": {
            "text/html": [
              "<div>\n",
              "<style scoped>\n",
              "    .dataframe tbody tr th:only-of-type {\n",
              "        vertical-align: middle;\n",
              "    }\n",
              "\n",
              "    .dataframe tbody tr th {\n",
              "        vertical-align: top;\n",
              "    }\n",
              "\n",
              "    .dataframe thead th {\n",
              "        text-align: right;\n",
              "    }\n",
              "</style>\n",
              "<table border=\"1\" class=\"dataframe\">\n",
              "  <thead>\n",
              "    <tr style=\"text-align: right;\">\n",
              "      <th></th>\n",
              "      <th>Model</th>\n",
              "      <th>Details</th>\n",
              "      <th>Root Mean Squared Error (RMSE)</th>\n",
              "      <th>R-squared (training)</th>\n",
              "      <th>Adjusted R-squared (training)</th>\n",
              "      <th>R-squared (test)</th>\n",
              "      <th>Adjusted R-squared (test)</th>\n",
              "      <th>5-Fold Cross Validation</th>\n",
              "    </tr>\n",
              "  </thead>\n",
              "  <tbody>\n",
              "    <tr>\n",
              "      <th>3</th>\n",
              "      <td>Multiple Regression-3</td>\n",
              "      <td>all features, no preprocessing</td>\n",
              "      <td>218380.452</td>\n",
              "      <td>0.654</td>\n",
              "      <td>0.654</td>\n",
              "      <td>0.621</td>\n",
              "      <td>0.619</td>\n",
              "      <td>0.644</td>\n",
              "    </tr>\n",
              "    <tr>\n",
              "      <th>2</th>\n",
              "      <td>Multiple Regression-2</td>\n",
              "      <td>selected features</td>\n",
              "      <td>244427.914</td>\n",
              "      <td>0.570</td>\n",
              "      <td>0.57</td>\n",
              "      <td>0.525</td>\n",
              "      <td>0.524</td>\n",
              "      <td>0.556</td>\n",
              "    </tr>\n",
              "    <tr>\n",
              "      <th>1</th>\n",
              "      <td>Multiple Regression-1</td>\n",
              "      <td>selected features</td>\n",
              "      <td>248977.833</td>\n",
              "      <td>0.523</td>\n",
              "      <td>0.523</td>\n",
              "      <td>0.507</td>\n",
              "      <td>0.506</td>\n",
              "      <td>0.517</td>\n",
              "    </tr>\n",
              "    <tr>\n",
              "      <th>0</th>\n",
              "      <td>Simple Linear Regression</td>\n",
              "      <td>-</td>\n",
              "      <td>255005.045</td>\n",
              "      <td>0.501</td>\n",
              "      <td>-</td>\n",
              "      <td>0.483</td>\n",
              "      <td>-</td>\n",
              "      <td>0.496</td>\n",
              "    </tr>\n",
              "  </tbody>\n",
              "</table>\n",
              "</div>"
            ],
            "text/plain": [
              "                      Model  ... 5-Fold Cross Validation\n",
              "3     Multiple Regression-3  ...                   0.644\n",
              "2     Multiple Regression-2  ...                   0.556\n",
              "1     Multiple Regression-1  ...                   0.517\n",
              "0  Simple Linear Regression  ...                   0.496\n",
              "\n",
              "[4 rows x 8 columns]"
            ]
          },
          "metadata": {
            "tags": []
          },
          "execution_count": 14
        }
      ]
    },
    {
      "cell_type": "code",
      "metadata": {
        "colab": {
          "base_uri": "https://localhost:8080/",
          "height": 266
        },
        "id": "2GhqAojjLfxU",
        "outputId": "5c521a6f-8501-405e-8d72-680b1d6b5ec9"
      },
      "source": [
        "import sklearn\n",
        "from sklearn import linear_model\n",
        "features = ['num_bed','num_bath','size_house','size_lot','num_floors','zip','is_waterfront','condition', 'size_basement', 'latitude','longitude','avg_size_neighbor_houses','avg_size_neighbor_lot']\n",
        "complex_model_R = linear_model.Ridge(alpha=1)\n",
        "complex_model_R.fit(train_data_dm[features],train_data_dm['price'])\n",
        "\n",
        "pred1 = complex_model_R.predict(test_data_dm[features])\n",
        "rmsecm1 = float(format(np.sqrt(metrics.mean_squared_error(test_data_dm['price'],pred1)),'.3f'))\n",
        "rtrcm1 = float(format(complex_model_R.score(train_data_dm[features],train_data_dm['price']),'.3f'))\n",
        "artrcm1 = float(format(adjustedR2(complex_model_R.score(train_data_dm[features],train_data_dm['price']),train_data_dm.shape[0],len(features)),'.3f'))\n",
        "rtecm1 = float(format(complex_model_R.score(test_data_dm[features],test_data_dm['price']),'.3f'))\n",
        "artecm1 = float(format(adjustedR2(complex_model_R.score(test_data_dm[features],test_data_dm['price']),test_data_dm.shape[0],len(features)),'.3f'))\n",
        "cv1 = float(format(cross_val_score(complex_model_R,df_dm[features],df_dm['price'],cv=5).mean(),'.3f'))\n",
        "\n",
        "complex_model_R = linear_model.Ridge(alpha=100)\n",
        "complex_model_R.fit(train_data_dm[features],train_data_dm['price'])\n",
        "\n",
        "pred2 = complex_model_R.predict(test_data_dm[features])\n",
        "rmsecm2 = float(format(np.sqrt(metrics.mean_squared_error(test_data_dm['price'],pred2)),'.3f'))\n",
        "rtrcm2 = float(format(complex_model_R.score(train_data_dm[features],train_data_dm['price']),'.3f'))\n",
        "artrcm2 = float(format(adjustedR2(complex_model_R.score(train_data_dm[features],train_data_dm['price']),train_data_dm.shape[0],len(features)),'.3f'))\n",
        "rtecm2 = float(format(complex_model_R.score(test_data_dm[features],test_data_dm['price']),'.3f'))\n",
        "artecm2 = float(format(adjustedR2(complex_model_R.score(test_data_dm[features],test_data_dm['price']),test_data_dm.shape[0],len(features)),'.3f'))\n",
        "cv2 = float(format(cross_val_score(complex_model_R,df_dm[features],df_dm['price'],cv=5).mean(),'.3f'))\n",
        "\n",
        "complex_model_R = linear_model.Ridge(alpha=1000)\n",
        "complex_model_R.fit(train_data_dm[features],train_data_dm['price'])\n",
        "\n",
        "pred3 = complex_model_R.predict(test_data_dm[features])\n",
        "rmsecm3 = float(format(np.sqrt(metrics.mean_squared_error(test_data_dm['price'],pred3)),'.3f'))\n",
        "rtrcm3 = float(format(complex_model_R.score(train_data_dm[features],train_data_dm['price']),'.3f'))\n",
        "artrcm3 = float(format(adjustedR2(complex_model_R.score(train_data_dm[features],train_data_dm['price']),train_data_dm.shape[0],len(features)),'.3f'))\n",
        "rtecm3 = float(format(complex_model_R.score(test_data_dm[features],test_data_dm['price']),'.3f'))\n",
        "artecm3 = float(format(adjustedR2(complex_model_R.score(test_data_dm[features],test_data_dm['price']),test_data_dm.shape[0],len(features)),'.3f'))\n",
        "cv3 = float(format(cross_val_score(complex_model_R,df_dm[features],df_dm['price'],cv=5).mean(),'.3f'))\n",
        "\n",
        "r = evaluation.shape[0]\n",
        "evaluation.loc[r] = ['Ridge Regression','alpha=1, all features',rmsecm1,rtrcm1,artrcm1,rtecm1,artecm1,cv1]\n",
        "evaluation.loc[r+1] = ['Ridge Regression','alpha=100, all features',rmsecm2,rtrcm2,artrcm2,rtecm2,artecm2,cv2]\n",
        "evaluation.loc[r+2] = ['Ridge Regression','alpha=1000, all features',rmsecm3,rtrcm3,artrcm3,rtecm3,artecm3,cv3]\n",
        "evaluation.sort_values(by = '5-Fold Cross Validation', ascending=False)"
      ],
      "execution_count": null,
      "outputs": [
        {
          "output_type": "execute_result",
          "data": {
            "text/html": [
              "<div>\n",
              "<style scoped>\n",
              "    .dataframe tbody tr th:only-of-type {\n",
              "        vertical-align: middle;\n",
              "    }\n",
              "\n",
              "    .dataframe tbody tr th {\n",
              "        vertical-align: top;\n",
              "    }\n",
              "\n",
              "    .dataframe thead th {\n",
              "        text-align: right;\n",
              "    }\n",
              "</style>\n",
              "<table border=\"1\" class=\"dataframe\">\n",
              "  <thead>\n",
              "    <tr style=\"text-align: right;\">\n",
              "      <th></th>\n",
              "      <th>Model</th>\n",
              "      <th>Details</th>\n",
              "      <th>Root Mean Squared Error (RMSE)</th>\n",
              "      <th>R-squared (training)</th>\n",
              "      <th>Adjusted R-squared (training)</th>\n",
              "      <th>R-squared (test)</th>\n",
              "      <th>Adjusted R-squared (test)</th>\n",
              "      <th>5-Fold Cross Validation</th>\n",
              "    </tr>\n",
              "  </thead>\n",
              "  <tbody>\n",
              "    <tr>\n",
              "      <th>3</th>\n",
              "      <td>Multiple Regression-3</td>\n",
              "      <td>all features, no preprocessing</td>\n",
              "      <td>218380.452</td>\n",
              "      <td>0.654</td>\n",
              "      <td>0.654</td>\n",
              "      <td>0.621</td>\n",
              "      <td>0.619</td>\n",
              "      <td>0.644</td>\n",
              "    </tr>\n",
              "    <tr>\n",
              "      <th>4</th>\n",
              "      <td>Ridge Regression</td>\n",
              "      <td>alpha=1, all features</td>\n",
              "      <td>218333.700</td>\n",
              "      <td>0.654</td>\n",
              "      <td>0.654</td>\n",
              "      <td>0.621</td>\n",
              "      <td>0.62</td>\n",
              "      <td>0.644</td>\n",
              "    </tr>\n",
              "    <tr>\n",
              "      <th>5</th>\n",
              "      <td>Ridge Regression</td>\n",
              "      <td>alpha=100, all features</td>\n",
              "      <td>220024.578</td>\n",
              "      <td>0.639</td>\n",
              "      <td>0.638</td>\n",
              "      <td>0.615</td>\n",
              "      <td>0.614</td>\n",
              "      <td>0.629</td>\n",
              "    </tr>\n",
              "    <tr>\n",
              "      <th>6</th>\n",
              "      <td>Ridge Regression</td>\n",
              "      <td>alpha=1000, all features</td>\n",
              "      <td>235572.090</td>\n",
              "      <td>0.574</td>\n",
              "      <td>0.573</td>\n",
              "      <td>0.559</td>\n",
              "      <td>0.557</td>\n",
              "      <td>0.566</td>\n",
              "    </tr>\n",
              "    <tr>\n",
              "      <th>2</th>\n",
              "      <td>Multiple Regression-2</td>\n",
              "      <td>selected features</td>\n",
              "      <td>244427.914</td>\n",
              "      <td>0.570</td>\n",
              "      <td>0.57</td>\n",
              "      <td>0.525</td>\n",
              "      <td>0.524</td>\n",
              "      <td>0.556</td>\n",
              "    </tr>\n",
              "    <tr>\n",
              "      <th>1</th>\n",
              "      <td>Multiple Regression-1</td>\n",
              "      <td>selected features</td>\n",
              "      <td>248977.833</td>\n",
              "      <td>0.523</td>\n",
              "      <td>0.523</td>\n",
              "      <td>0.507</td>\n",
              "      <td>0.506</td>\n",
              "      <td>0.517</td>\n",
              "    </tr>\n",
              "    <tr>\n",
              "      <th>0</th>\n",
              "      <td>Simple Linear Regression</td>\n",
              "      <td>-</td>\n",
              "      <td>255005.045</td>\n",
              "      <td>0.501</td>\n",
              "      <td>-</td>\n",
              "      <td>0.483</td>\n",
              "      <td>-</td>\n",
              "      <td>0.496</td>\n",
              "    </tr>\n",
              "  </tbody>\n",
              "</table>\n",
              "</div>"
            ],
            "text/plain": [
              "                      Model  ... 5-Fold Cross Validation\n",
              "3     Multiple Regression-3  ...                   0.644\n",
              "4          Ridge Regression  ...                   0.644\n",
              "5          Ridge Regression  ...                   0.629\n",
              "6          Ridge Regression  ...                   0.566\n",
              "2     Multiple Regression-2  ...                   0.556\n",
              "1     Multiple Regression-1  ...                   0.517\n",
              "0  Simple Linear Regression  ...                   0.496\n",
              "\n",
              "[7 rows x 8 columns]"
            ]
          },
          "metadata": {
            "tags": []
          },
          "execution_count": 15
        }
      ]
    },
    {
      "cell_type": "markdown",
      "metadata": {
        "id": "a22u__g91UkK"
      },
      "source": [
        "# **As more features are added the better our results are.**"
      ]
    },
    {
      "cell_type": "code",
      "metadata": {
        "colab": {
          "base_uri": "https://localhost:8080/",
          "height": 173
        },
        "id": "dmC1bHmGNEkU",
        "outputId": "ec7ca0e5-41f8-4985-f3df-5ab0f34fedb9"
      },
      "source": [
        "evaluation_poly = pd.DataFrame({'Model': [],\n",
        "                                'Details':[],\n",
        "                                'Root Mean Squared Error (RMSE)':[],\n",
        "                                'R-squared (training)':[],\n",
        "                                'Adjusted R-squared (training)':[],\n",
        "                                'R-squared (test)':[],\n",
        "                                'Adjusted R-squared (test)':[],\n",
        "                                '5-Fold Cross Validation':[]})\n",
        "\n",
        "features = ['num_bed','num_bath','size_house','size_lot','num_floors','zip','is_waterfront','condition', 'size_basement', 'latitude','longitude','avg_size_neighbor_houses','avg_size_neighbor_lot']\n",
        "polyfeat = PolynomialFeatures(degree=2)\n",
        "X_allpoly = polyfeat.fit_transform(df[features])\n",
        "X_trainpoly = polyfeat.fit_transform(train_data[features])\n",
        "X_testpoly = polyfeat.fit_transform(test_data[features])\n",
        "poly = linear_model.LinearRegression().fit(X_trainpoly, train_data['price'])\n",
        "\n",
        "pred1 = poly.predict(X_testpoly)\n",
        "rmsepoly1 = float(format(np.sqrt(metrics.mean_squared_error(test_data['price'],pred1)),'.3f'))\n",
        "rtrpoly1 = float(format(poly.score(X_trainpoly,train_data['price']),'.3f'))\n",
        "rtepoly1 = float(format(poly.score(X_testpoly,test_data['price']),'.3f'))\n",
        "cv1 = float(format(cross_val_score(linear_model.LinearRegression(),X_allpoly,df['price'],cv=5).mean(),'.3f'))\n",
        "\n",
        "polyfeat = PolynomialFeatures(degree=3)\n",
        "X_allpoly = polyfeat.fit_transform(df[features])\n",
        "X_trainpoly = polyfeat.fit_transform(train_data[features])\n",
        "X_testpoly = polyfeat.fit_transform(test_data[features])\n",
        "poly = linear_model.LinearRegression().fit(X_trainpoly, train_data['price'])\n",
        "\n",
        "pred2 = poly.predict(X_testpoly)\n",
        "rmsepoly2 = float(format(np.sqrt(metrics.mean_squared_error(test_data['price'],pred2)),'.3f'))\n",
        "rtrpoly2 = float(format(poly.score(X_trainpoly,train_data['price']),'.3f'))\n",
        "rtepoly2 = float(format(poly.score(X_testpoly,test_data['price']),'.3f'))\n",
        "cv2 = float(format(cross_val_score(linear_model.LinearRegression(),X_allpoly,df['price'],cv=5).mean(),'.3f'))\n",
        "\n",
        "features = ['price', 'num_bed', 'num_bath', 'size_house',\n",
        "    'size_lot', 'num_floors', 'is_waterfront', 'condition', 'size_basement',\n",
        "    'year_built', 'renovation_date', 'zip', 'latitude', 'longitude',\n",
        "    'avg_size_neighbor_houses', 'avg_size_neighbor_lot']\n",
        "polyfeat = PolynomialFeatures(degree=2)\n",
        "X_allpoly = polyfeat.fit_transform(df[features])\n",
        "X_trainpoly = polyfeat.fit_transform(train_data[features])\n",
        "X_testpoly = polyfeat.fit_transform(test_data[features])\n",
        "poly = linear_model.LinearRegression().fit(X_trainpoly, train_data['price'])\n",
        "\n",
        "pred3 = poly.predict(X_testpoly)\n",
        "rmsepoly3 = float(format(np.sqrt(metrics.mean_squared_error(test_data['price'],pred3)),'.3f'))\n",
        "rtrpoly3 = float(format(poly.score(X_trainpoly,train_data['price']),'.3f'))\n",
        "rtepoly3 = float(format(poly.score(X_testpoly,test_data['price']),'.3f'))\n",
        "cv3 = float(format(cross_val_score(linear_model.LinearRegression(),X_allpoly,df['price'],cv=5).mean(),'.3f'))\n",
        "\n",
        "polyfeat = PolynomialFeatures(degree=3)\n",
        "X_allpoly = polyfeat.fit_transform(df[features])\n",
        "X_trainpoly = polyfeat.fit_transform(train_data[features])\n",
        "X_testpoly = polyfeat.fit_transform(test_data[features])\n",
        "poly = linear_model.LinearRegression().fit(X_trainpoly, train_data['price'])\n",
        "\n",
        "pred4 = poly.predict(X_testpoly)\n",
        "rmsepoly4 = float(format(np.sqrt(metrics.mean_squared_error(test_data['price'],pred4)),'.3f'))\n",
        "rtrpoly4 = float(format(poly.score(X_trainpoly,train_data['price']),'.3f'))\n",
        "rtepoly4 = float(format(poly.score(X_testpoly,test_data['price']),'.3f'))\n",
        "cv4 = float(format(cross_val_score(linear_model.LinearRegression(),X_allpoly,df['price'],cv=5).mean(),'.3f'))\n",
        "\n",
        "\n",
        "r = evaluation_poly.shape[0]\n",
        "evaluation_poly.loc[r] = ['Polynomial Regression','degree=2, selected features, no preprocessing',rmsepoly1,rtrpoly1,'-',rtepoly1,'-',cv1]\n",
        "evaluation_poly.loc[r+1] = ['Polynomial Regression','degree=3, selected features, no preprocessing',rmsepoly2,rtrpoly2,'-',rtepoly2,'-',cv2]\n",
        "evaluation_poly.loc[r+2] = ['Polynomial Regression','degree=2, all features, no preprocessing',rmsepoly3,rtrpoly3,'-',rtepoly3,'-',cv3]\n",
        "evaluation_poly.loc[r+3] = ['Polynomial Regression','degree=3, all features, no preprocessing',rmsepoly4,rtrpoly4,'-',rtepoly4,'-',cv4]\n",
        "\n",
        "evaluation_poly_temp = evaluation_poly[['Model','Details','Root Mean Squared Error (RMSE)','R-squared (training)','R-squared (test)','5-Fold Cross Validation']]\n",
        "evaluation_poly_temp.sort_values(by = '5-Fold Cross Validation', ascending=False)"
      ],
      "execution_count": null,
      "outputs": [
        {
          "output_type": "execute_result",
          "data": {
            "text/html": [
              "<div>\n",
              "<style scoped>\n",
              "    .dataframe tbody tr th:only-of-type {\n",
              "        vertical-align: middle;\n",
              "    }\n",
              "\n",
              "    .dataframe tbody tr th {\n",
              "        vertical-align: top;\n",
              "    }\n",
              "\n",
              "    .dataframe thead th {\n",
              "        text-align: right;\n",
              "    }\n",
              "</style>\n",
              "<table border=\"1\" class=\"dataframe\">\n",
              "  <thead>\n",
              "    <tr style=\"text-align: right;\">\n",
              "      <th></th>\n",
              "      <th>Model</th>\n",
              "      <th>Details</th>\n",
              "      <th>Root Mean Squared Error (RMSE)</th>\n",
              "      <th>R-squared (training)</th>\n",
              "      <th>R-squared (test)</th>\n",
              "      <th>5-Fold Cross Validation</th>\n",
              "    </tr>\n",
              "  </thead>\n",
              "  <tbody>\n",
              "    <tr>\n",
              "      <th>2</th>\n",
              "      <td>Polynomial Regression</td>\n",
              "      <td>degree=2, all features, no preprocessing</td>\n",
              "      <td>0.000</td>\n",
              "      <td>1.000</td>\n",
              "      <td>1.000</td>\n",
              "      <td>1.000</td>\n",
              "    </tr>\n",
              "    <tr>\n",
              "      <th>3</th>\n",
              "      <td>Polynomial Regression</td>\n",
              "      <td>degree=3, all features, no preprocessing</td>\n",
              "      <td>0.978</td>\n",
              "      <td>1.000</td>\n",
              "      <td>1.000</td>\n",
              "      <td>1.000</td>\n",
              "    </tr>\n",
              "    <tr>\n",
              "      <th>0</th>\n",
              "      <td>Polynomial Regression</td>\n",
              "      <td>degree=2, selected features, no preprocessing</td>\n",
              "      <td>179460.239</td>\n",
              "      <td>0.794</td>\n",
              "      <td>0.744</td>\n",
              "      <td>0.763</td>\n",
              "    </tr>\n",
              "    <tr>\n",
              "      <th>1</th>\n",
              "      <td>Polynomial Regression</td>\n",
              "      <td>degree=3, selected features, no preprocessing</td>\n",
              "      <td>208938.202</td>\n",
              "      <td>0.825</td>\n",
              "      <td>0.653</td>\n",
              "      <td>-0.137</td>\n",
              "    </tr>\n",
              "  </tbody>\n",
              "</table>\n",
              "</div>"
            ],
            "text/plain": [
              "                   Model  ... 5-Fold Cross Validation\n",
              "2  Polynomial Regression  ...                   1.000\n",
              "3  Polynomial Regression  ...                   1.000\n",
              "0  Polynomial Regression  ...                   0.763\n",
              "1  Polynomial Regression  ...                  -0.137\n",
              "\n",
              "[4 rows x 6 columns]"
            ]
          },
          "metadata": {
            "tags": []
          },
          "execution_count": 16
        }
      ]
    },
    {
      "cell_type": "markdown",
      "metadata": {
        "id": "csnKxIHY1fVp"
      },
      "source": [
        "# **In the end, I wanted to try the model with polynomial regression, if it proved to be the best model, if I make a better treatment of the data, perhaps with data binning, this model would be the ideal one to be put into production.**"
      ]
    }
  ]
}